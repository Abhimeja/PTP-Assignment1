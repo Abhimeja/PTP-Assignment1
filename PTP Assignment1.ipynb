{
 "cells": [
  {
   "cell_type": "markdown",
   "id": "5ea690af-d440-4f7a-8633-c0d7537f2532",
   "metadata": {},
   "source": [
    "\n",
    "Q1. Given an array of integers nums and an integer target, return indices of the two numbers such that they add up to target.\n",
    "\n",
    "You may assume that each input would have exactly one solution, and you may not use the same element twice.\n",
    "\n",
    "You can return the answer in any order.\n",
    "\n",
    "**Example:**\n",
    "Input: nums = [2,7,11,15], target = 9\n",
    "Output0 [0,1]\n",
    "\n",
    "**Explanation:** Because nums[0] + nums[1] == 9, we return [0, 1][\n",
    "\n",
    "Ans--"
   ]
  },
  {
   "cell_type": "markdown",
   "id": "dcff1800-f79d-4e3a-9c2a-1dd358ad4e62",
   "metadata": {},
   "source": [
    "To find the indices of two numbers in the given array that add up to the target, you can use the two-pointer technique. Here's the step-by-step approach to solving this problem:\n",
    "\n",
    "1.Create a dictionary to store the mapping of numbers to their indices.\n",
    "\n",
    "2.Iterate through the array nums, and for each number num, perform the following steps:\n",
    "\n",
    "a.Calculate the complement complement = target - num.\n",
    "\n",
    "b.Check if the complement exists in the dictionary.\n",
    "\n",
    "b(1).If it exists, return the indices [dictionary[complement], current_index].\n",
    "\n",
    "b(2).If it doesn't exist, add the current number and its index to the dictionary.\n",
    "\n",
    "3.If no two numbers are found that add up to the target, return an empty list."
   ]
  },
  {
   "cell_type": "code",
   "execution_count": 1,
   "id": "12aca632-3be9-4821-8270-7a5093ed72f6",
   "metadata": {},
   "outputs": [
    {
     "name": "stdout",
     "output_type": "stream",
     "text": [
      "[0, 1]\n"
     ]
    }
   ],
   "source": [
    "def twoSum(nums, target):\n",
    "    num_to_index = {}  # Dictionary to store number-index mapping\n",
    "    for i, num in enumerate(nums):\n",
    "        complement = target - num\n",
    "        if complement in num_to_index:\n",
    "            return [num_to_index[complement], i]\n",
    "        num_to_index[num] = i\n",
    "    return []  # Return an empty list if no solution is found\n",
    "nums = [2, 7, 11, 15]\n",
    "target = 9\n",
    "result = twoSum(nums, target)\n",
    "print(result)\n",
    "\n"
   ]
  },
  {
   "cell_type": "markdown",
   "id": "6939c585-ebf2-4356-b93a-b90c03c039a1",
   "metadata": {},
   "source": [
    "The output [0, 1] indicates that the numbers at indices 0 and 1 in the array [2, 7, 11, 15] add up to the target value of 9."
   ]
  },
  {
   "cell_type": "markdown",
   "id": "7c784725-1650-42f9-9ea4-a905f502bcb7",
   "metadata": {},
   "source": [
    "Q2. Given an integer array nums and an integer val, remove all occurrences of val in nums in-place. The order of the elements may be changed. Then return the number of elements in nums which are not equal to val.\n",
    "\n",
    "Consider the number of elements in nums which are not equal to val be k, to get accepted, you need to do the following things:\n",
    "\n",
    "- Change the array nums such that the first k elements of nums contain the elements which are not equal to val. The remaining elements of nums are not important as well as the size of nums.\n",
    "- Return k.\n",
    "\n",
    " Example :\n",
    "Input: nums = [3,2,2,3], val = 3\n",
    "Output: 2, nums = [2,2,_*,_*]\n",
    "\n",
    "Explanation: Your function should return k = 2, with the first two elements of nums being 2. It does not matter what you leave beyond the returned k (hence they are underscores)[\n",
    "\n",
    "Ans--"
   ]
  },
  {
   "cell_type": "markdown",
   "id": "2f052411-dee6-4e82-a8b1-0a95d91e7be2",
   "metadata": {},
   "source": [
    "To remove all occurrences of a given value val from an array nums in-place and return the count of elements that are not equal to val, you can use the two-pointer technique. Here's a step-by-step approach to solving this problem:\n",
    "\n",
    "1.Initialize two pointers, i and j, to 0. Pointer i represents the current position, and pointer j represents the position where the next non-val element should be placed.\n",
    "\n",
    "2.Iterate through the array nums, and for each element num, perform the following steps:\n",
    "  \n",
    "  *If num is equal to val, move pointer i to the next position without incrementing pointer j.\n",
    "  \n",
    "  *If num is not equal to val, set nums[j] = nums[i], increment both pointers i and j by 1.\n",
    "\n",
    "3.After iterating through the entire array, return the value of j, which represents the count of elements that are not equal to val."
   ]
  },
  {
   "cell_type": "code",
   "execution_count": 2,
   "id": "388df8f5-d461-49e8-9d37-f2445a138bf7",
   "metadata": {},
   "outputs": [
    {
     "name": "stdout",
     "output_type": "stream",
     "text": [
      "2\n",
      "[2, 2]\n"
     ]
    }
   ],
   "source": [
    "def removeElement(nums, val):\n",
    "    i = 0\n",
    "    j = 0\n",
    "    while i < len(nums):\n",
    "        if nums[i] != val:\n",
    "            nums[j] = nums[i]\n",
    "            j += 1\n",
    "        i += 1\n",
    "    return j\n",
    "nums = [3, 2, 2, 3]\n",
    "val = 3\n",
    "result = removeElement(nums, val)\n",
    "print(result)\n",
    "print(nums[:result])\n",
    "\n"
   ]
  },
  {
   "cell_type": "markdown",
   "id": "88625380-95cf-4df2-8b8e-83bf9f199329",
   "metadata": {},
   "source": [
    "The output 2 indicates that there are 2 elements in nums that are not equal to val. The modified nums array contains [2, 2, _, _], where the underscores denote elements that are not important for this problem."
   ]
  },
  {
   "cell_type": "markdown",
   "id": "7430e0a9-0be0-4c7a-bdeb-fdca8be7a920",
   "metadata": {},
   "source": [
    "Q3. Given a sorted array of distinct integers and a target value, return the index if the target is found. If not, return the index where it would be if it were inserted in order.\n",
    "\n",
    "You must write an algorithm with O(log n) runtime complexity.\n",
    "\n",
    " Example 1:\n",
    "Input: nums = [1,3,5,6], target = 5\n",
    "\n",
    "Output: 2\n",
    "\n",
    "Ans--"
   ]
  },
  {
   "cell_type": "markdown",
   "id": "da2ddd44-315d-4d92-99bc-dc550773407c",
   "metadata": {},
   "source": [
    "To find the index where a target value should be inserted in a sorted array of distinct integers, you can use a binary search algorithm. Here's a step-by-step approach to solving this problem:\n",
    "\n",
    "1.Initialize two pointers, left and right, to the start and end indices of the array respectively.\n",
    "\n",
    "2.While left <= right, perform the following steps:\n",
    "\n",
    "  *Calculate the middle index as mid = (left + right) // 2.\n",
    "  \n",
    "  *If the value at index mid is equal to the target, return mid as the index where the target is found.\n",
    "  \n",
    "  *If the value at index mid is greater than the target, update right = mid - 1 to search in the left half of the array.\n",
    "\n",
    "  *If the value at index mid is less than the target, update left = mid + 1 to search in the right half of the array.\n",
    "\n",
    "3.If the target is not found in the array, return the value of left as the index where it would be inserted in order."
   ]
  },
  {
   "cell_type": "code",
   "execution_count": 3,
   "id": "52e19a60-fd4d-4598-973c-2194e51dcdad",
   "metadata": {},
   "outputs": [
    {
     "name": "stdout",
     "output_type": "stream",
     "text": [
      "2\n"
     ]
    }
   ],
   "source": [
    "def searchInsert(nums, target):\n",
    "    left = 0\n",
    "    right = len(nums) - 1\n",
    "    while left <= right:\n",
    "        mid = (left + right) // 2\n",
    "        if nums[mid] == target:\n",
    "            return mid\n",
    "        elif nums[mid] < target:\n",
    "            left = mid + 1\n",
    "        else:\n",
    "            right = mid - 1\n",
    "    return left\n",
    "nums = [1, 3, 5, 6]\n",
    "target = 5\n",
    "result = searchInsert(nums, target)\n",
    "print(result)\n"
   ]
  },
  {
   "cell_type": "markdown",
   "id": "a47de3a7-7bd2-4975-b4ad-ddca3323b0c9",
   "metadata": {},
   "source": [
    "Q4. You are given a large integer represented as an integer array digits, where each digits[i] is the ith digit of the integer. The digits are ordered from most significant to least significant in left-to-right order. The large integer does not contain any leading 0's.\n",
    "\n",
    "Increment the large integer by one and return the resulting array of digits.\n",
    "\n",
    " Example 1:\n",
    "Input: digits = [1,2,3]\n",
    "Output: [1,2,4]\n",
    "\n",
    "Explanation: The array represents the integer 123.\n",
    "\n",
    "Incrementing by one gives 123 + 1 = 124.\n",
    "Thus, the result should be [1,2,4].\n",
    "\n",
    "Ans--"
   ]
  },
  {
   "cell_type": "markdown",
   "id": "f5e05173-9b61-49d4-9912-820a515b6443",
   "metadata": {},
   "source": [
    "To increment a large integer represented as an array of digits by one, you can perform the addition operation starting from the least significant digit and propagate the carry if necessary. Here's a step-by-step approach to solving this problem:\n",
    "\n",
    "1.Start from the rightmost digit of the array.\n",
    "\n",
    "2.Add 1 to the rightmost digit and keep track of the carry.\n",
    "\n",
    "3.If the sum of the digit and the carry is less than 10, update the digit with the new sum and stop the process.\n",
    "\n",
    "4.If the sum of the digit and the carry is equal to 10, update the digit with 0 and continue the process with the next digit by propagating the carry.\n",
    "\n",
    "5.If the process reaches the leftmost digit and the sum of the digit and the carry is equal to 10, insert a new digit 1 at the beginning of the array.\n",
    "\n",
    "6.Reverse the array to restore the original order of digits.\n",
    "\n",
    "7.Return the modified array."
   ]
  },
  {
   "cell_type": "code",
   "execution_count": 4,
   "id": "2a37c89f-2f7d-4484-a05c-d91e638f66fa",
   "metadata": {},
   "outputs": [
    {
     "name": "stdout",
     "output_type": "stream",
     "text": [
      "[1, 2, 4]\n"
     ]
    }
   ],
   "source": [
    "def plusOne(digits):\n",
    "    carry = 1\n",
    "    for i in range(len(digits) - 1, -1, -1):\n",
    "        digits[i] += carry\n",
    "        if digits[i] < 10:\n",
    "            carry = 0\n",
    "            break\n",
    "        digits[i] = 0\n",
    "    if carry == 1:\n",
    "        digits.insert(0, 1)\n",
    "    return digits\n",
    "digits = [1, 2, 3]\n",
    "result = plusOne(digits)\n",
    "print(result)\n"
   ]
  },
  {
   "cell_type": "markdown",
   "id": "322f82d0-c8d7-41ca-90fe-c0beeb983541",
   "metadata": {},
   "source": [
    "The output [1, 2, 4] represents the large integer 123 incremented by one, resulting in the integer 124.\n",
    "\n",
    "\n",
    "\n",
    "\n",
    "\n",
    "\n"
   ]
  },
  {
   "cell_type": "markdown",
   "id": "034f8891-66a9-4e23-915e-8c0c06e3cbfb",
   "metadata": {},
   "source": [
    "Q5. You are given two integer arrays nums1 and nums2, sorted in non-decreasing order, and two integers m and n, representing the number of elements in nums1 and nums2 respectively.\n",
    "\n",
    "Merge nums1 and nums2 into a single array sorted in non-decreasing order.\n",
    "\n",
    "The final sorted array should not be returned by the function, but instead be stored inside the array nums1. To accommodate this, nums1 has a length of m + n, where the first m elements denote the elements that should be merged, and the last n elements are set to 0 and should be ignored. nums2 has a length of n.\n",
    "\n",
    "Example 1:\n",
    "Input: nums1 = [1,2,3,0,0,0], m = 3, nums2 = [2,5,6], n = 3\n",
    "Output: [1,2,2,3,5,6]\n",
    "\n",
    "Explanation: The arrays we are merging are [1,2,3] and [2,5,6].\n",
    "The result of the merge is [1,2,2,3,5,6] with the underlined elements coming from nums1.\n",
    "\n",
    "Ans--"
   ]
  },
  {
   "cell_type": "markdown",
   "id": "df3462dc-e6a1-44cf-906e-0c30e7c09a23",
   "metadata": {},
   "source": [
    "To merge two sorted arrays nums1 and nums2 into a single sorted array in-place, you can start from the end of the merged array and compare elements from both arrays to determine the correct position for each element. Here's a step-by-step approach to solving this problem:\n",
    "\n",
    "1.Initialize three pointers:\n",
    "\n",
    " *p1 to point at the last non-zero element in nums1 (initially at index m - 1).\n",
    "\n",
    " *p2 to point at the last element in nums2 (initially at index n - 1).\n",
    "\n",
    " *p to point at the last position in the merged array (initially at index m + n - 1).\n",
    "\n",
    "2.While p1 >= 0 and p2 >= 0, perform the following steps:\n",
    "\n",
    " *If nums1[p1] is greater than nums2[p2], set nums1[p] to nums1[p1], decrement both p1 and p by 1.\n",
    "\n",
    " *If nums1[p1] is less than or equal to nums2[p2], set nums1[p] to nums2[p2], decrement both p2 and p by 1.\n",
    "\n",
    "3.If there are any remaining elements in nums2 after the above step, copy them to the beginning of nums1 starting from index 0 up to p2 + 1.\n",
    "\n",
    "4.Return the modified nums1 array."
   ]
  },
  {
   "cell_type": "code",
   "execution_count": 1,
   "id": "12d5f8be-f4cd-4425-86ab-3c5823260921",
   "metadata": {},
   "outputs": [
    {
     "name": "stdout",
     "output_type": "stream",
     "text": [
      "[1, 2, 2, 3, 5, 6]\n"
     ]
    }
   ],
   "source": [
    "def merge(nums1, m, nums2, n):\n",
    "    p1 = m - 1\n",
    "    p2 = n - 1\n",
    "    p = m + n - 1\n",
    "    while p1 >= 0 and p2 >= 0:\n",
    "        if nums1[p1] > nums2[p2]:\n",
    "            nums1[p] = nums1[p1]\n",
    "            p1 -= 1\n",
    "        else:\n",
    "            nums1[p] = nums2[p2]\n",
    "            p2 -= 1\n",
    "        p -= 1\n",
    "    if p2 >= 0:\n",
    "        nums1[:p2 + 1] = nums2[:p2 + 1]\n",
    "    return nums1\n",
    "nums1 = [1, 2, 3, 0, 0, 0]\n",
    "m = 3\n",
    "nums2 = [2, 5, 6]\n",
    "n = 3\n",
    "result = merge(nums1, m, nums2, n)\n",
    "print(result)\n"
   ]
  },
  {
   "cell_type": "markdown",
   "id": "97c3cc1c-7e61-46b0-ae72-4b0e1fe4e525",
   "metadata": {},
   "source": [
    "Q6. Given an integer array nums, return true if any value appears at least twice in the array, and return false if every element is distinct.\n",
    "\n",
    "Example 1:\n",
    "Input: nums = [1,2,3,1]\n",
    "\n",
    "Output: true\n",
    "\n",
    "Ans--"
   ]
  },
  {
   "cell_type": "markdown",
   "id": "b2146d26-abb8-4e49-bf9b-eb24f1acfe82",
   "metadata": {},
   "source": [
    "To determine if any value appears at least twice in an integer array, you can use a set data structure to keep track of the unique elements encountered so far. Here's a step-by-step approach to solving this problem:\n",
    "\n",
    "1.Initialize an empty set, seen.\n",
    "\n",
    "2.Iterate through each element num in the array nums.\n",
    "\n",
    " *If num is already in the seen set, return True as there is a duplicate.\n",
    "\n",
    " *If num is not in the seen set, add it to the set.\n",
    "\n",
    "3.After iterating through all the elements, return False as no duplicates were found."
   ]
  },
  {
   "cell_type": "code",
   "execution_count": 2,
   "id": "8a115025-691a-4aca-b3a1-f45573caa706",
   "metadata": {},
   "outputs": [
    {
     "name": "stdout",
     "output_type": "stream",
     "text": [
      "True\n"
     ]
    }
   ],
   "source": [
    "def containsDuplicate(nums):\n",
    "    seen = set()\n",
    "    for num in nums:\n",
    "        if num in seen:\n",
    "            return True\n",
    "        seen.add(num)\n",
    "    return False\n",
    "nums = [1, 2, 3, 1]\n",
    "result = containsDuplicate(nums)\n",
    "print(result)\n"
   ]
  },
  {
   "cell_type": "markdown",
   "id": "bdf039c6-aa9f-4787-ae95-2a463e3a45cc",
   "metadata": {},
   "source": [
    "Q7. Given an integer array nums, move all 0's to the end of it while maintaining the relative order of the nonzero elements.\n",
    "\n",
    "Note that you must do this in-place without making a copy of the array.\n",
    "\n",
    "Example 1:\n",
    "Input: nums = [0,1,0,3,12]\n",
    "Output: [1,3,12,0,0]\n",
    "\n",
    "Ans--"
   ]
  },
  {
   "cell_type": "markdown",
   "id": "f595b845-132b-4746-a050-04a95ac2e572",
   "metadata": {},
   "source": [
    "To move all the zeros to the end of the array while maintaining the relative order of the nonzero elements, you can use a two-pointer approach. Here's the step-by-step algorithm:\n",
    "\n",
    "1.Initialize two pointers, left and right, both starting at index 0.\n",
    "\n",
    "2.Iterate through the array with the right pointer.\n",
    "\n",
    "3.If the element at index right is non-zero, swap it with the element at index left and increment both left and right pointers.\n",
    "\n",
    "4.If the element at index right is zero, only increment the right pointer.\n",
    "\n",
    "5.Repeat steps 3-4 until the right pointer reaches the end of the array.\n",
    "\n",
    "6.After the iteration is complete, all the non-zero elements will be placed at the beginning of the array, and the zeros will be at the end."
   ]
  },
  {
   "cell_type": "code",
   "execution_count": 1,
   "id": "b494f868-c718-4c5c-861e-2b5ad9414b86",
   "metadata": {},
   "outputs": [
    {
     "name": "stdout",
     "output_type": "stream",
     "text": [
      "[1, 3, 12, 0, 0]\n"
     ]
    }
   ],
   "source": [
    "def moveZeros(nums):\n",
    "    left = 0\n",
    "    right = 0\n",
    "\n",
    "    while right < len(nums):\n",
    "        if nums[right] != 0:\n",
    "            nums[left], nums[right] = nums[right], nums[left]\n",
    "            left += 1\n",
    "        right += 1\n",
    "\n",
    "    return nums\n",
    "nums = [0, 1, 0, 3, 12]\n",
    "result = moveZeros(nums)\n",
    "print(result)\n"
   ]
  },
  {
   "cell_type": "markdown",
   "id": "6ae03e37-df56-4e16-a16b-0874a02b2d9a",
   "metadata": {},
   "source": [
    "The function moveZeros modifies the input array in-place and returns the modified array. In the example, it moves all the zeros to the end while maintaining the order of the non-zero elements."
   ]
  },
  {
   "cell_type": "markdown",
   "id": "4c6bd006-fbe7-43eb-858f-aae10d293ab0",
   "metadata": {},
   "source": [
    "Q8. You have a set of integers s, which originally contains all the numbers from 1 to n. Unfortunately, due to some error, one of the numbers in s got duplicated to another number in the set, which results in repetition of one number and loss of another number.\n",
    "\n",
    "You are given an integer array nums representing the data status of this set after the error.\n",
    "\n",
    "Find the number that occurs twice and the number that is missing and return them in the form of an array.\n",
    "\n",
    "Example 1:\n",
    "Input: nums = [1,2,2,4]\n",
    "Output: [2,3]\n"
   ]
  },
  {
   "cell_type": "markdown",
   "id": "9c39d408-7eeb-4987-9fc3-96d9335f1c09",
   "metadata": {},
   "source": [
    "To find the number that occurs twice and the number that is missing in the given array, you can use a set and iterate through the array. Here's the step-by-step algorithm:\n",
    "\n",
    "1.Initialize an empty set called numSet.\n",
    "\n",
    "2.Initialize variables duplicate and missing to 0.\n",
    "\n",
    "3.Iterate through each number, num, in the input array nums.\n",
    "\n",
    "4.Check if num is already in numSet. If it is, assign num to duplicate.\n",
    "\n",
    "5.Add num to numSet.\n",
    "\n",
    "6.Calculate the sum of numbers from 1 to n using the formula sum_n = n * (n + 1) // 2.\n",
    "\n",
    "7.Calculate the sum of all elements in nums and subtract it from sum_n. Assign the result to missing.\n",
    "\n",
    "8.Return the result as an array [duplicate, missing]."
   ]
  },
  {
   "cell_type": "code",
   "execution_count": 2,
   "id": "17621c98-7927-4812-811c-1520daab1ccd",
   "metadata": {},
   "outputs": [
    {
     "name": "stdout",
     "output_type": "stream",
     "text": [
      "[2, 3]\n"
     ]
    }
   ],
   "source": [
    "def findErrorNums(nums):\n",
    "    numSet = set()\n",
    "    duplicate = 0\n",
    "    missing = 0\n",
    "\n",
    "    for num in nums:\n",
    "        if num in numSet:\n",
    "            duplicate = num\n",
    "        numSet.add(num)\n",
    "\n",
    "    n = len(nums)\n",
    "    sum_n = n * (n + 1) // 2\n",
    "    missing = sum_n - sum(nums) + duplicate\n",
    "\n",
    "    return [duplicate, missing]\n",
    "nums = [1, 2, 2, 4]\n",
    "result = findErrorNums(nums)\n",
    "print(result)\n"
   ]
  },
  {
   "cell_type": "code",
   "execution_count": null,
   "id": "36ab749b-c426-42a4-be2e-040d9b7f1dba",
   "metadata": {},
   "outputs": [],
   "source": []
  }
 ],
 "metadata": {
  "kernelspec": {
   "display_name": "Python 3 (ipykernel)",
   "language": "python",
   "name": "python3"
  },
  "language_info": {
   "codemirror_mode": {
    "name": "ipython",
    "version": 3
   },
   "file_extension": ".py",
   "mimetype": "text/x-python",
   "name": "python",
   "nbconvert_exporter": "python",
   "pygments_lexer": "ipython3",
   "version": "3.10.8"
  }
 },
 "nbformat": 4,
 "nbformat_minor": 5
}
